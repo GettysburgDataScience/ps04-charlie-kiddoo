{
 "cells": [
  {
   "cell_type": "markdown",
   "id": "83177ee9",
   "metadata": {},
   "source": [
    "## Replace this with your name and Section"
   ]
  },
  {
   "cell_type": "markdown",
   "id": "a1b00660-589c-4adf-91a5-c2875670a724",
   "metadata": {},
   "source": [
    "DS 256 Data Science Programming, Fall 2024\n",
    "\n",
    "Prof Eatai Roth\n",
    "\n",
    "## Problem Set 4\n",
    "Due 11/4/2024 by 5p"
   ]
  },
  {
   "cell_type": "markdown",
   "id": "34ee7898",
   "metadata": {},
   "source": [
    "### Problem 1\n",
    "Write a function ```greaterThan(A, lower_lim)``` that takes as an argument a numpy array A and a number lower_lim and returns an array with every entry less than or equal to lower_lim replaced by zero. That is to say, only the numbers strictly greater than lower_lim remain, the rest are 0."
   ]
  },
  {
   "cell_type": "code",
   "execution_count": 525,
   "id": "343c6707-a614-4af5-977c-154616a4e276",
   "metadata": {},
   "outputs": [],
   "source": [
    "import numpy as np"
   ]
  },
  {
   "cell_type": "code",
   "execution_count": 481,
   "id": "6c0848ae",
   "metadata": {},
   "outputs": [],
   "source": [
    "'''your code here'''\n",
    "\n",
    "def greaterThan(A, lower_lim):\n",
    "    B = A.copy()\n",
    "    B[B <= lower_lim] = 0      \n",
    "    return B\n"
   ]
  },
  {
   "cell_type": "code",
   "execution_count": 483,
   "id": "a57c2f50",
   "metadata": {},
   "outputs": [
    {
     "name": "stdout",
     "output_type": "stream",
     "text": [
      "You passed all the tests!\n"
     ]
    }
   ],
   "source": [
    "A = np.array([1, 2, 3, 4, 5, 6, 7, 8, 9])\n",
    "B = np.array([[-1, 1], [2, -2], [0, 3]])\n",
    "C = np.array([[101.1, 100, 99.9], [99.8, 100.1, 98.9], [103.2, 99, 98]])\n",
    "\n",
    "\n",
    "\n",
    "\n",
    "assert np.all(greaterThan(A, 5) == np.array([0, 0, 0, 0, 0, 6, 7, 8, 9]))\n",
    "assert np.all(greaterThan(B, 0) == np.array([[0, 1], [2, 0], [0, 3]]))\n",
    "assert np.all(greaterThan(C, 100) == np.array([[101.1, 0, 0], [0, 100.1, 0], [103.2, 0, 0]]))\n",
    "\n",
    "print(\"You passed all the tests!\")"
   ]
  },
  {
   "cell_type": "markdown",
   "id": "878a3744",
   "metadata": {},
   "source": [
    "### Problem 2\n",
    "Write a function ```subtractMean(A)``` that takes as an input the numpy array and returns the array with the mean of all the values subtracted from every element."
   ]
  },
  {
   "cell_type": "code",
   "execution_count": 486,
   "id": "c40ea21b",
   "metadata": {},
   "outputs": [],
   "source": [
    "'''your code here'''\n",
    "\n",
    "def subtractMean(A):\n",
    "    count = 0\n",
    "    for i in A:\n",
    "        if type(i) == np.ndarray:\n",
    "            count += len(i)\n",
    "        elif type(i) == np.int64:\n",
    "            count += 1\n",
    "            \n",
    "    total = A.sum()\n",
    "    mean = total/count\n",
    "    \n",
    "    return A - mean\n"
   ]
  },
  {
   "cell_type": "markdown",
   "id": "8c36e69e",
   "metadata": {},
   "source": [
    "If the tests below aren't passing, check the values of A, B, and C. These should be the same as in the test for Problem 1. If the values in these arrays have changed, why might that be?"
   ]
  },
  {
   "cell_type": "code",
   "execution_count": 489,
   "id": "eee6cfea",
   "metadata": {},
   "outputs": [
    {
     "name": "stdout",
     "output_type": "stream",
     "text": [
      "You passed all the tests!\n"
     ]
    }
   ],
   "source": [
    "assert np.isclose(subtractMean(A), np.array([-4., -3., -2., -1.,  0.,  1.,  2.,  3.,  4.])).all()\n",
    "assert np.isclose(subtractMean(B), np.array([[-1.5,  0.5],[ 1.5, -2.5],[-0.5,  2.5]])).all()\n",
    "assert np.isclose(subtractMean(C), np.array([[ 1.1,  0. , -0.1],[-0.2,  0.1, -1.1],[ 3.2, -1. , -2. ]])).all()\n",
    "\n",
    "print(\"You passed all the tests!\")\n"
   ]
  },
  {
   "cell_type": "markdown",
   "id": "50e5f128",
   "metadata": {},
   "source": [
    "### Problem 3\n",
    "\n",
    "Write a function ```arrayEdges``` that takes as an input an array and returns a 1-D array of all the elements on the edges of the array starting at the upper left corner and working around clockwise. Do not repeat that first element. If the original array is not 2-D, print('Error') and return -1.\n",
    "\n",
    "*Hint*: Get the shape of the array as height and width, calculate the perimeter (remember not to double count the corners), and make an array of zeros the size of the perimeter. Then fill that array.\n",
    "\n",
    "*Hint 2*: The length of the shape of a 2-D array is 2.\n",
    "\n",
    "*Hint 3*: ```dA = A.dtype``` is the data type of A. ```np.zeros().astype(dA)``` creates an array of that type (if A has strings, this will make an array of '0')."
   ]
  },
  {
   "cell_type": "code",
   "execution_count": 500,
   "id": "6165dcb5",
   "metadata": {},
   "outputs": [],
   "source": [
    "'''your code here'''\n",
    "\n",
    "def arrayEdges(A):\n",
    "    return A.shape"
   ]
  },
  {
   "cell_type": "code",
   "execution_count": 502,
   "id": "dee2eb2e-d05c-49eb-a51b-366c10654f67",
   "metadata": {},
   "outputs": [],
   "source": [
    "X = np.array([[1, 2, 3], [4, 5, 6], [7, 8, 9]])\n",
    "Y = np.array([['you', 'got', 'this'],['!','correct','problem']])\n",
    "Z = np.array(['but','this','wont', 'work'])"
   ]
  },
  {
   "cell_type": "code",
   "execution_count": 504,
   "id": "6edef8e5-63af-409e-8e85-968e5ff14986",
   "metadata": {},
   "outputs": [
    {
     "data": {
      "text/plain": [
       "(3, 3)"
      ]
     },
     "execution_count": 504,
     "metadata": {},
     "output_type": "execute_result"
    }
   ],
   "source": [
    "arrayEdges(X)"
   ]
  },
  {
   "cell_type": "code",
   "execution_count": null,
   "id": "ca5237a2",
   "metadata": {},
   "outputs": [],
   "source": [
    "'''Test your code'''\n",
    "\n",
    "X = np.array([[1, 2, 3], [4, 5, 6], [7, 8, 9]])\n",
    "Y = np.array([['you', 'got', 'this'],['!','correct','problem']])\n",
    "Z = np.array(['but','this','wont', 'work'])\n",
    "\n",
    "assert np.array(arrayEdges(X) == np.array([1, 2, 3, 6, 9, 8, 7, 4])).all()\n",
    "assert np.array(arrayEdges(Y) == np.array(['you', 'got', 'this', 'problem', 'correct', '!'])).all()\n",
    "assert arrayEdges(Z) == -1\n",
    "\n",
    "print(\"You passed all the tests! (disregard that it says Error above...it's supposed to do that)\")\n"
   ]
  },
  {
   "cell_type": "markdown",
   "id": "f943e82d",
   "metadata": {},
   "source": [
    "## Palmer's Penguins\n",
    "\n",
    "Below I've imported the Palmer's Penguins dataset, courtesy of Alison Horst's github. Fill in the blanks in Problem 4. You should add code cells below to write code to find the answers."
   ]
  },
  {
   "cell_type": "code",
   "execution_count": 506,
   "id": "ee42d632",
   "metadata": {},
   "outputs": [
    {
     "data": {
      "text/html": [
       "<div>\n",
       "<style scoped>\n",
       "    .dataframe tbody tr th:only-of-type {\n",
       "        vertical-align: middle;\n",
       "    }\n",
       "\n",
       "    .dataframe tbody tr th {\n",
       "        vertical-align: top;\n",
       "    }\n",
       "\n",
       "    .dataframe thead th {\n",
       "        text-align: right;\n",
       "    }\n",
       "</style>\n",
       "<table border=\"1\" class=\"dataframe\">\n",
       "  <thead>\n",
       "    <tr style=\"text-align: right;\">\n",
       "      <th></th>\n",
       "      <th>species</th>\n",
       "      <th>island</th>\n",
       "      <th>bill_length_mm</th>\n",
       "      <th>bill_depth_mm</th>\n",
       "      <th>flipper_length_mm</th>\n",
       "      <th>body_mass_g</th>\n",
       "      <th>sex</th>\n",
       "      <th>year</th>\n",
       "    </tr>\n",
       "  </thead>\n",
       "  <tbody>\n",
       "    <tr>\n",
       "      <th>0</th>\n",
       "      <td>Adelie</td>\n",
       "      <td>Torgersen</td>\n",
       "      <td>39.1</td>\n",
       "      <td>18.7</td>\n",
       "      <td>181.0</td>\n",
       "      <td>3750.0</td>\n",
       "      <td>male</td>\n",
       "      <td>2007</td>\n",
       "    </tr>\n",
       "    <tr>\n",
       "      <th>1</th>\n",
       "      <td>Adelie</td>\n",
       "      <td>Torgersen</td>\n",
       "      <td>39.5</td>\n",
       "      <td>17.4</td>\n",
       "      <td>186.0</td>\n",
       "      <td>3800.0</td>\n",
       "      <td>female</td>\n",
       "      <td>2007</td>\n",
       "    </tr>\n",
       "    <tr>\n",
       "      <th>2</th>\n",
       "      <td>Adelie</td>\n",
       "      <td>Torgersen</td>\n",
       "      <td>40.3</td>\n",
       "      <td>18.0</td>\n",
       "      <td>195.0</td>\n",
       "      <td>3250.0</td>\n",
       "      <td>female</td>\n",
       "      <td>2007</td>\n",
       "    </tr>\n",
       "    <tr>\n",
       "      <th>3</th>\n",
       "      <td>Adelie</td>\n",
       "      <td>Torgersen</td>\n",
       "      <td>NaN</td>\n",
       "      <td>NaN</td>\n",
       "      <td>NaN</td>\n",
       "      <td>NaN</td>\n",
       "      <td>NaN</td>\n",
       "      <td>2007</td>\n",
       "    </tr>\n",
       "    <tr>\n",
       "      <th>4</th>\n",
       "      <td>Adelie</td>\n",
       "      <td>Torgersen</td>\n",
       "      <td>36.7</td>\n",
       "      <td>19.3</td>\n",
       "      <td>193.0</td>\n",
       "      <td>3450.0</td>\n",
       "      <td>female</td>\n",
       "      <td>2007</td>\n",
       "    </tr>\n",
       "  </tbody>\n",
       "</table>\n",
       "</div>"
      ],
      "text/plain": [
       "  species     island  bill_length_mm  bill_depth_mm  flipper_length_mm  \\\n",
       "0  Adelie  Torgersen            39.1           18.7              181.0   \n",
       "1  Adelie  Torgersen            39.5           17.4              186.0   \n",
       "2  Adelie  Torgersen            40.3           18.0              195.0   \n",
       "3  Adelie  Torgersen             NaN            NaN                NaN   \n",
       "4  Adelie  Torgersen            36.7           19.3              193.0   \n",
       "\n",
       "   body_mass_g     sex  year  \n",
       "0       3750.0    male  2007  \n",
       "1       3800.0  female  2007  \n",
       "2       3250.0  female  2007  \n",
       "3          NaN     NaN  2007  \n",
       "4       3450.0  female  2007  "
      ]
     },
     "execution_count": 506,
     "metadata": {},
     "output_type": "execute_result"
    }
   ],
   "source": [
    "import pandas as pd\n",
    "\n",
    "pp_df = pd.read_csv('https://raw.githubusercontent.com/allisonhorst/palmerpenguins/main/inst/extdata/penguins.csv')\n",
    "pp_df.head()"
   ]
  },
  {
   "cell_type": "code",
   "execution_count": 510,
   "id": "abee1794-74f4-4f5b-b2d0-40997800ad57",
   "metadata": {},
   "outputs": [
    {
     "data": {
      "text/plain": [
       "344"
      ]
     },
     "execution_count": 510,
     "metadata": {},
     "output_type": "execute_result"
    }
   ],
   "source": [
    "pp_df['species'].size"
   ]
  },
  {
   "cell_type": "code",
   "execution_count": 512,
   "id": "1c040895-6c84-4d83-8a89-8a6b87232b2c",
   "metadata": {},
   "outputs": [
    {
     "data": {
      "text/plain": [
       "2700.0"
      ]
     },
     "execution_count": 512,
     "metadata": {},
     "output_type": "execute_result"
    }
   ],
   "source": [
    "pp_df['body_mass_g'].min()"
   ]
  },
  {
   "cell_type": "code",
   "execution_count": 514,
   "id": "f18ec8b9-49d1-4081-baeb-ff0f7fbe3041",
   "metadata": {},
   "outputs": [
    {
     "data": {
      "text/plain": [
       "6300.0"
      ]
     },
     "execution_count": 514,
     "metadata": {},
     "output_type": "execute_result"
    }
   ],
   "source": [
    "pp_df['body_mass_g'].max()"
   ]
  },
  {
   "cell_type": "code",
   "execution_count": 516,
   "id": "a121f9da-a9f5-4eb7-bace-c2dffc005cd4",
   "metadata": {},
   "outputs": [
    {
     "data": {
      "text/plain": [
       "array(['Adelie', 'Gentoo', 'Chinstrap'], dtype=object)"
      ]
     },
     "execution_count": 516,
     "metadata": {},
     "output_type": "execute_result"
    }
   ],
   "source": [
    "pp_df['species'].unique()"
   ]
  },
  {
   "cell_type": "code",
   "execution_count": 563,
   "id": "d04364d5-72d3-4ae1-aed0-23d92ac69ad3",
   "metadata": {},
   "outputs": [
    {
     "data": {
      "text/plain": [
       "152"
      ]
     },
     "execution_count": 563,
     "metadata": {},
     "output_type": "execute_result"
    }
   ],
   "source": [
    "ade = pp_df['species'].str.count('Adelie').sum()\n",
    "ade"
   ]
  },
  {
   "cell_type": "code",
   "execution_count": 570,
   "id": "dec16373-94ae-4a90-be8c-0bb0c341721a",
   "metadata": {},
   "outputs": [
    {
     "data": {
      "text/plain": [
       "152"
      ]
     },
     "execution_count": 570,
     "metadata": {},
     "output_type": "execute_result"
    }
   ],
   "source": [
    "adelie_count = pp_df['species'].value_counts()['Adelie']\n",
    "adelie_count"
   ]
  },
  {
   "cell_type": "code",
   "execution_count": 572,
   "id": "a105a768-dd9e-42fd-9553-6af4d1dd258f",
   "metadata": {},
   "outputs": [
    {
     "data": {
      "text/plain": [
       "124"
      ]
     },
     "execution_count": 572,
     "metadata": {},
     "output_type": "execute_result"
    }
   ],
   "source": [
    "gentoo_count = pp_df['species'].value_counts()['Gentoo']\n",
    "gentoo_count"
   ]
  },
  {
   "cell_type": "code",
   "execution_count": 574,
   "id": "805af33a-c51b-4f94-9356-32941c35c304",
   "metadata": {},
   "outputs": [
    {
     "data": {
      "text/plain": [
       "68"
      ]
     },
     "execution_count": 574,
     "metadata": {},
     "output_type": "execute_result"
    }
   ],
   "source": [
    "chinstrap_count = pp_df['species'].value_counts()['Chinstrap']\n",
    "chinstrap_count"
   ]
  },
  {
   "cell_type": "markdown",
   "id": "54a3fab2",
   "metadata": {},
   "source": [
    "### Problem 4\n",
    "\n",
    " 1. How many penguins were recorded? \n",
    "\n",
    "  - 344\n",
    "\n",
    " 2. In terms of body mass, how big were the smallest and biggest penguins measured?\n",
    "\n",
    "  - Smallest: 2700g\n",
    "  - Biggest: 6300g\n",
    "\n",
    " 3. What species of penguins were recorded and how many of each?\n",
    "\n",
    " - Adelie (152)\n",
    " - Gentoo (124)\n",
    " - Chinstrap (68)"
   ]
  },
  {
   "cell_type": "markdown",
   "id": "f487bce0",
   "metadata": {},
   "source": [
    "### Problem 5\n",
    "\n",
    "Plot a histogram of the body masses of penguins grouped by species. Make sure to include a title, axis labels, and a legend."
   ]
  },
  {
   "cell_type": "code",
   "execution_count": 579,
   "id": "00b6d6ea",
   "metadata": {},
   "outputs": [],
   "source": [
    "'''your code here'''\n",
    "\n",
    "import matplotlib.pyplot as plt\n"
   ]
  },
  {
   "cell_type": "code",
   "execution_count": 665,
   "id": "bc11e909-ea92-40b7-aace-b3ff033430d4",
   "metadata": {},
   "outputs": [
    {
     "data": {
      "image/png": "[encoded data removed]",
      "text/plain": [
       "<Figure size 432x288 with 1 Axes>"
      ]
     },
     "metadata": {
      "needs_background": "light"
     },
     "output_type": "display_data"
    }
   ],
   "source": [
    "#xpoints = pp_df['species'].unique()\n",
    "#ypoints = pp_df['body_mass_g']\n",
    "#ax = pp_df['species']\n",
    "#yx = pp_df['body_mass_g']\n",
    "\n",
    "species = pp_df['species']\n",
    "mass = pp_df['body_mass_g']\n",
    "plt.bar(species.str.count('Adelie'), mass)\n",
    "plt.bar(species.str.count('Gentoo'), mass)\n",
    "plt.bar(species.str.count('Chinstrap'), mass)\n",
    "plt.show()"
   ]
  },
  {
   "cell_type": "code",
   "execution_count": 667,
   "id": "e30a4274-8036-413d-8818-81e614b7ea76",
   "metadata": {},
   "outputs": [
    {
     "data": {
      "image/png": "[encoded data removed]",
      "text/plain": [
       "<Figure size 432x288 with 1 Axes>"
      ]
     },
     "metadata": {
      "needs_background": "light"
     },
     "output_type": "display_data"
    }
   ],
   "source": [
    "species = pp_df['species']\n",
    "mass = pp_df['body_mass_g']\n",
    "plt.bar(mass, species.str.count('Adelie'))\n",
    "plt.bar(mass, species.str.count('Gentoo'))\n",
    "plt.bar(mass, species.str.count('Chinstrap'))\n",
    "plt.show()"
   ]
  },
  {
   "cell_type": "markdown",
   "id": "25a9dd58-0368-4269-bf39-5d601ac58eb9",
   "metadata": {},
   "source": [
    "### Challenge Problem\n",
    "\n",
    "Write a function ```interleaveArrays``` that takes as arguments two numpy arrays A and B and return a new numpy array with the rows of A and B interleaved, starting with A. If you run out of rows from one matrix or the other complete the array with the remaining rows of the longer array.\n",
    "\n",
    "If the two arrays do not have the same number of columns, print('Error: Shapes of arrays are not compatible.') and return -1\n",
    "If the two arrays contain different data types, print('Error: Types of arrays are not compatible.') and return -2\n",
    "\n",
    "Example:\n",
    "\n",
    "```\n",
    "G = np.array([[1, 2, 3], [4, 5, 6]])\n",
    "H = np.array([[10, 20, 30], [100, 200, 300], [1000, 2000, 3000]])\n",
    "\n",
    "interleave(G,H)\n",
    "```\n",
    "returns\n",
    "```\n",
    "array([[1,2,3], [10,20,30], [4, 5, 6], [100, 200, 300], [1000, 2000, 3000]])\n",
    "```"
   ]
  },
  {
   "cell_type": "code",
   "execution_count": 627,
   "id": "fdf35dfa-a1c9-4f7a-af18-cda661075d8f",
   "metadata": {},
   "outputs": [],
   "source": [
    "G = np.array([[1, 2, 3], [4, 5, 6]])\n",
    "H = np.array([[10, 20, 30], [100, 200, 300], [1000, 2000, 3000]])"
   ]
  },
  {
   "cell_type": "code",
   "execution_count": 645,
   "id": "825784c9-b952-450f-b667-13311d8e27cc",
   "metadata": {},
   "outputs": [],
   "source": [
    "'''your code here'''\n",
    "    \n",
    "def interleaveArrays(A, B):\n",
    "    new = np.array([])\n",
    "    for i, k in A, B:\n",
    "        print(i,k)\n"
   ]
  },
  {
   "cell_type": "code",
   "execution_count": 647,
   "id": "1571efdb-a361-4ee4-a282-abd4be06fbc9",
   "metadata": {},
   "outputs": [
    {
     "name": "stdout",
     "output_type": "stream",
     "text": [
      "[1 2 3] [4 5 6]\n"
     ]
    },
    {
     "ename": "ValueError",
     "evalue": "too many values to unpack (expected 2)",
     "output_type": "error",
     "traceback": [
      "\u001b[0;31m---------------------------------------------------------------------------\u001b[0m",
      "\u001b[0;31mValueError\u001b[0m                                Traceback (most recent call last)",
      "\u001b[0;32m/var/folders/x4/8zn46hyx39l31cf5pmjd7xv40000gn/T/ipykernel_78690/3925731315.py\u001b[0m in \u001b[0;36m<module>\u001b[0;34m\u001b[0m\n\u001b[0;32m----> 1\u001b[0;31m \u001b[0minterleaveArrays\u001b[0m\u001b[0;34m(\u001b[0m\u001b[0mG\u001b[0m\u001b[0;34m,\u001b[0m \u001b[0mH\u001b[0m\u001b[0;34m)\u001b[0m\u001b[0;34m\u001b[0m\u001b[0;34m\u001b[0m\u001b[0m\n\u001b[0m",
      "\u001b[0;32m/var/folders/x4/8zn46hyx39l31cf5pmjd7xv40000gn/T/ipykernel_78690/3860865826.py\u001b[0m in \u001b[0;36minterleaveArrays\u001b[0;34m(A, B)\u001b[0m\n\u001b[1;32m      3\u001b[0m \u001b[0;32mdef\u001b[0m \u001b[0minterleaveArrays\u001b[0m\u001b[0;34m(\u001b[0m\u001b[0mA\u001b[0m\u001b[0;34m,\u001b[0m \u001b[0mB\u001b[0m\u001b[0;34m)\u001b[0m\u001b[0;34m:\u001b[0m\u001b[0;34m\u001b[0m\u001b[0;34m\u001b[0m\u001b[0m\n\u001b[1;32m      4\u001b[0m     \u001b[0mnew\u001b[0m \u001b[0;34m=\u001b[0m \u001b[0mnp\u001b[0m\u001b[0;34m.\u001b[0m\u001b[0marray\u001b[0m\u001b[0;34m(\u001b[0m\u001b[0;34m[\u001b[0m\u001b[0;34m]\u001b[0m\u001b[0;34m)\u001b[0m\u001b[0;34m\u001b[0m\u001b[0;34m\u001b[0m\u001b[0m\n\u001b[0;32m----> 5\u001b[0;31m     \u001b[0;32mfor\u001b[0m \u001b[0mi\u001b[0m\u001b[0;34m,\u001b[0m \u001b[0mk\u001b[0m \u001b[0;32min\u001b[0m \u001b[0mA\u001b[0m\u001b[0;34m,\u001b[0m \u001b[0mB\u001b[0m\u001b[0;34m:\u001b[0m\u001b[0;34m\u001b[0m\u001b[0;34m\u001b[0m\u001b[0m\n\u001b[0m\u001b[1;32m      6\u001b[0m         \u001b[0mprint\u001b[0m\u001b[0;34m(\u001b[0m\u001b[0mi\u001b[0m\u001b[0;34m,\u001b[0m\u001b[0mk\u001b[0m\u001b[0;34m)\u001b[0m\u001b[0;34m\u001b[0m\u001b[0;34m\u001b[0m\u001b[0m\n",
      "\u001b[0;31mValueError\u001b[0m: too many values to unpack (expected 2)"
     ]
    }
   ],
   "source": [
    "interleaveArrays(G, H)"
   ]
  },
  {
   "cell_type": "code",
   "execution_count": null,
   "id": "66c519cb-0bee-4668-8dc1-120db4ac8baf",
   "metadata": {},
   "outputs": [],
   "source": []
  }
 ],
 "metadata": {
  "kernelspec": {
   "display_name": "Python 3 (ipykernel)",
   "language": "python",
   "name": "python3"
  },
  "language_info": {
   "codemirror_mode": {
    "name": "ipython",
    "version": 3
   },
   "file_extension": ".py",
   "mimetype": "text/x-python",
   "name": "python",
   "nbconvert_exporter": "python",
   "pygments_lexer": "ipython3",
   "version": "3.9.20"
  }
 },
 "nbformat": 4,
 "nbformat_minor": 5
}
